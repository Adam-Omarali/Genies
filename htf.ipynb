{
  "nbformat": 4,
  "nbformat_minor": 0,
  "metadata": {
    "colab": {
      "provenance": [],
      "authorship_tag": "ABX9TyP6lEYRC3FSgiLT5lbbtsjz",
      "include_colab_link": true
    },
    "kernelspec": {
      "name": "python3",
      "display_name": "Python 3"
    },
    "language_info": {
      "name": "python"
    }
  },
  "cells": [
    {
      "cell_type": "markdown",
      "metadata": {
        "id": "view-in-github",
        "colab_type": "text"
      },
      "source": [
        "<a href=\"https://colab.research.google.com/github/joeunyook/Genies/blob/main/htf.ipynb\" target=\"_parent\"><img src=\"https://colab.research.google.com/assets/colab-badge.svg\" alt=\"Open In Colab\"/></a>"
      ]
    },
    {
      "cell_type": "code",
      "execution_count": 47,
      "metadata": {
        "colab": {
          "base_uri": "https://localhost:8080/"
        },
        "id": "yPQJwSg4t-EV",
        "outputId": "a24a9cc2-b439-4dc9-de3f-049d0d6e8951"
      },
      "outputs": [
        {
          "output_type": "stream",
          "name": "stdout",
          "text": [
            "Requirement already satisfied: google-generativeai in /usr/local/lib/python3.11/dist-packages (0.8.4)\n",
            "Requirement already satisfied: python-dotenv in /usr/local/lib/python3.11/dist-packages (1.0.1)\n",
            "Requirement already satisfied: google-ai-generativelanguage==0.6.15 in /usr/local/lib/python3.11/dist-packages (from google-generativeai) (0.6.15)\n",
            "Requirement already satisfied: google-api-core in /usr/local/lib/python3.11/dist-packages (from google-generativeai) (2.24.1)\n",
            "Requirement already satisfied: google-api-python-client in /usr/local/lib/python3.11/dist-packages (from google-generativeai) (2.160.0)\n",
            "Requirement already satisfied: google-auth>=2.15.0 in /usr/local/lib/python3.11/dist-packages (from google-generativeai) (2.38.0)\n",
            "Requirement already satisfied: protobuf in /usr/local/lib/python3.11/dist-packages (from google-generativeai) (4.25.6)\n",
            "Requirement already satisfied: pydantic in /usr/local/lib/python3.11/dist-packages (from google-generativeai) (2.10.6)\n",
            "Requirement already satisfied: tqdm in /usr/local/lib/python3.11/dist-packages (from google-generativeai) (4.67.1)\n",
            "Requirement already satisfied: typing-extensions in /usr/local/lib/python3.11/dist-packages (from google-generativeai) (4.12.2)\n",
            "Requirement already satisfied: proto-plus<2.0.0dev,>=1.22.3 in /usr/local/lib/python3.11/dist-packages (from google-ai-generativelanguage==0.6.15->google-generativeai) (1.26.0)\n",
            "Requirement already satisfied: googleapis-common-protos<2.0.dev0,>=1.56.2 in /usr/local/lib/python3.11/dist-packages (from google-api-core->google-generativeai) (1.69.0)\n",
            "Requirement already satisfied: requests<3.0.0.dev0,>=2.18.0 in /usr/local/lib/python3.11/dist-packages (from google-api-core->google-generativeai) (2.32.3)\n",
            "Requirement already satisfied: cachetools<6.0,>=2.0.0 in /usr/local/lib/python3.11/dist-packages (from google-auth>=2.15.0->google-generativeai) (5.5.2)\n",
            "Requirement already satisfied: pyasn1-modules>=0.2.1 in /usr/local/lib/python3.11/dist-packages (from google-auth>=2.15.0->google-generativeai) (0.4.1)\n",
            "Requirement already satisfied: rsa<5,>=3.1.4 in /usr/local/lib/python3.11/dist-packages (from google-auth>=2.15.0->google-generativeai) (4.9)\n",
            "Requirement already satisfied: httplib2<1.dev0,>=0.19.0 in /usr/local/lib/python3.11/dist-packages (from google-api-python-client->google-generativeai) (0.22.0)\n",
            "Requirement already satisfied: google-auth-httplib2<1.0.0,>=0.2.0 in /usr/local/lib/python3.11/dist-packages (from google-api-python-client->google-generativeai) (0.2.0)\n",
            "Requirement already satisfied: uritemplate<5,>=3.0.1 in /usr/local/lib/python3.11/dist-packages (from google-api-python-client->google-generativeai) (4.1.1)\n",
            "Requirement already satisfied: annotated-types>=0.6.0 in /usr/local/lib/python3.11/dist-packages (from pydantic->google-generativeai) (0.7.0)\n",
            "Requirement already satisfied: pydantic-core==2.27.2 in /usr/local/lib/python3.11/dist-packages (from pydantic->google-generativeai) (2.27.2)\n",
            "Requirement already satisfied: grpcio<2.0dev,>=1.33.2 in /usr/local/lib/python3.11/dist-packages (from google-api-core[grpc]!=2.0.*,!=2.1.*,!=2.10.*,!=2.2.*,!=2.3.*,!=2.4.*,!=2.5.*,!=2.6.*,!=2.7.*,!=2.8.*,!=2.9.*,<3.0.0dev,>=1.34.1->google-ai-generativelanguage==0.6.15->google-generativeai) (1.70.0)\n",
            "Requirement already satisfied: grpcio-status<2.0.dev0,>=1.33.2 in /usr/local/lib/python3.11/dist-packages (from google-api-core[grpc]!=2.0.*,!=2.1.*,!=2.10.*,!=2.2.*,!=2.3.*,!=2.4.*,!=2.5.*,!=2.6.*,!=2.7.*,!=2.8.*,!=2.9.*,<3.0.0dev,>=1.34.1->google-ai-generativelanguage==0.6.15->google-generativeai) (1.62.3)\n",
            "Requirement already satisfied: pyparsing!=3.0.0,!=3.0.1,!=3.0.2,!=3.0.3,<4,>=2.4.2 in /usr/local/lib/python3.11/dist-packages (from httplib2<1.dev0,>=0.19.0->google-api-python-client->google-generativeai) (3.2.1)\n",
            "Requirement already satisfied: pyasn1<0.7.0,>=0.4.6 in /usr/local/lib/python3.11/dist-packages (from pyasn1-modules>=0.2.1->google-auth>=2.15.0->google-generativeai) (0.6.1)\n",
            "Requirement already satisfied: charset-normalizer<4,>=2 in /usr/local/lib/python3.11/dist-packages (from requests<3.0.0.dev0,>=2.18.0->google-api-core->google-generativeai) (3.4.1)\n",
            "Requirement already satisfied: idna<4,>=2.5 in /usr/local/lib/python3.11/dist-packages (from requests<3.0.0.dev0,>=2.18.0->google-api-core->google-generativeai) (3.10)\n",
            "Requirement already satisfied: urllib3<3,>=1.21.1 in /usr/local/lib/python3.11/dist-packages (from requests<3.0.0.dev0,>=2.18.0->google-api-core->google-generativeai) (2.3.0)\n",
            "Requirement already satisfied: certifi>=2017.4.17 in /usr/local/lib/python3.11/dist-packages (from requests<3.0.0.dev0,>=2.18.0->google-api-core->google-generativeai) (2025.1.31)\n",
            "Requirement already satisfied: Pillow in /usr/local/lib/python3.11/dist-packages (11.1.0)\n",
            "Requirement already satisfied: psycopg2-binary in /usr/local/lib/python3.11/dist-packages (2.9.10)\n"
          ]
        }
      ],
      "source": [
        "!pip install google-generativeai python-dotenv\n",
        "!pip install Pillow # Required for image handling\n",
        "!pip install psycopg2-binary # For PostgreSQL interaction\n"
      ]
    },
    {
      "cell_type": "code",
      "source": [
        "import google.generativeai as genai\n",
        "import os\n",
        "from PIL import Image  # Import Pillow library\n",
        "import random  # For mock damage classifier\n",
        "import psycopg2  # Uncomment if you're using PostgreSQL\n",
        "from dotenv import load_dotenv\n",
        "\n",
        "# 3. Load API Key (from Google Drive - Secure Method)\n",
        "from google.colab import drive\n",
        "drive.mount('/content/drive')\n",
        "\n",
        "try:\n",
        "    with open(\"/content/drive/MyDrive/htf/gemini_api_key.txt\", \"r\") as file:\n",
        "        GEMINI_API_KEY = file.read().strip()\n",
        "    print(\"API key loaded from Google Drive.\")  # Added print statement\n",
        "    genai.configure(api_key=GEMINI_API_KEY)  # Configure Gemini AI\n",
        "except FileNotFoundError:\n",
        "    print(\"Error: API key file not found in Google Drive.  Make sure the path is correct.\")\n",
        "    GEMINI_API_KEY = None # Handle the case where the key isn't loaded\n",
        "\n",
        "except Exception as e:\n",
        "    print(f\"Error loading API key: {e}\")\n",
        "    GEMINI_API_KEY = None # Handle potential errors during key loading"
      ],
      "metadata": {
        "colab": {
          "base_uri": "https://localhost:8080/"
        },
        "id": "ab4zX1PowZR4",
        "outputId": "5efbbe98-dfab-4939-8361-361137644140"
      },
      "execution_count": 48,
      "outputs": [
        {
          "output_type": "stream",
          "name": "stdout",
          "text": [
            "Drive already mounted at /content/drive; to attempt to forcibly remount, call drive.mount(\"/content/drive\", force_remount=True).\n",
            "API key loaded from Google Drive.\n"
          ]
        }
      ]
    },
    {
      "cell_type": "code",
      "source": [
        "# 4 .Gemini API Classification Function\n",
        "def classify_book_damage(image_path):\n",
        "    \"\"\"\n",
        "    Uses Gemini API to classify book damage and returns type and severity.\n",
        "    \"\"\"\n",
        "    if not GEMINI_API_KEY:\n",
        "        print(\"Gemini API key not loaded.\")\n",
        "        return None\n",
        "\n",
        "    try:\n",
        "        model_name = \"gemini-2.0-flash\"  # Or correct model\n",
        "        model = genai.GenerativeModel(model_name)\n",
        "\n",
        "        try:\n",
        "            image = Image.open(image_path)\n",
        "        except FileNotFoundError:\n",
        "            print(f\"Error: Image not found: {image_path}\")\n",
        "            return None\n",
        "        except Exception as e:\n",
        "            print(f\"Error reading image: {e}\")\n",
        "            return None\n",
        "\n",
        "        damage_options = [\"corner_damage\", \"cover_scratches\", \"spine_damage\", \"water_damage\", \"tears_or_rips\", \"misprints\", \"missing_dust_jacket\", \"trim_issues\"] # Under score labels\n",
        "        # **HIGHLY REFINED PROMPT (Underscore Labels):**\n",
        "        prompt = f\"\"\"Carefully analyze the image of the book.\n",
        "        Identify the *single* most significant type of damage present.\n",
        "        You *must* choose one of the following damage types (use *exactly* these labels): {', '.join(damage_options)}.\n",
        "\n",
        "        After identifying the damage type, assess its severity on a scale of 1 to 5, where:\n",
        "        1: Very Minor Damage\n",
        "        2: Minor Damage\n",
        "        3: Moderate Damage\n",
        "        4: Significant Damage\n",
        "        5: Severe Damage\n",
        "\n",
        "        Return the result in *exactly* the following format. Do not include any other text:\n",
        "        Damage Type: [damage_type]\n",
        "        Severity: [severity_level]\n",
        "\n",
        "        Example:\n",
        "        Damage Type: corner_damage\n",
        "        Severity: 3\n",
        "        \"\"\"\n",
        "\n",
        "        response = model.generate_content([prompt, image])\n",
        "\n",
        "        print(\"Gemini API response received.\")\n",
        "        print(f\"Gemini API response: {response.text}\")\n",
        "        return response.text\n",
        "\n",
        "    except Exception as e:\n",
        "        print(f\"Error calling Gemini API: {e}\")\n",
        "        return None\n"
      ],
      "metadata": {
        "id": "MgYaInI_3W2d"
      },
      "execution_count": 49,
      "outputs": []
    },
    {
      "cell_type": "code",
      "source": [
        "def extract_damage_info(gemini_response):\n",
        "    \"\"\"\n",
        "    Extracts damage type and severity from the Gemini API response (Underscore Labels).\n",
        "    \"\"\"\n",
        "    damage_match = re.search(r\"Damage Type:\\s*([a-z_]+)\", gemini_response)  # Only lowercase letters and underscores\n",
        "    severity_match = re.search(r\"Severity:\\s*(\\d+)\", gemini_response)\n",
        "\n",
        "    if damage_match and severity_match:\n",
        "        damage_type = damage_match.group(1).strip()  # No need to lowercase\n",
        "        severity = int(severity_match.group(1))\n",
        "\n",
        "        print(f\"Extracted Damage Type: {damage_type}\")\n",
        "        print(f\"Extracted Severity: {severity}\")\n",
        "        return {\"type\": damage_type, \"severity\": severity}\n",
        "    else:\n",
        "        print(\"Could not extract damage type and severity.\")\n",
        "        return None\n"
      ],
      "metadata": {
        "id": "Tbf17YfhSsZA"
      },
      "execution_count": 50,
      "outputs": []
    },
    {
      "cell_type": "code",
      "source": [
        "# 6. Price Point Determiner\n",
        "def calculate_discounted_price(original_price, damage_type, severity, devaluation_rate=0.0):\n",
        "    \"\"\"\n",
        "    Calculates the discounted price based on publisher rules and dynamic devaluation.\n",
        "    \"\"\"\n",
        "    try:\n",
        "        discount_rate = publisher_rules[damage_type][severity]\n",
        "        print(f\"Base Discount Rate: {discount_rate}\")  # Print base discount rate\n",
        "\n",
        "        # Apply dynamic devaluation rate (e.g., 2% = 0.02)\n",
        "        adjusted_discount_rate = discount_rate * (1 - devaluation_rate)\n",
        "        print(f\"Adjusted Discount Rate: {adjusted_discount_rate} (after {devaluation_rate*100}% devaluation)\")  # Print adjusted rate\n",
        "\n",
        "        discounted_price = original_price * (1 - adjusted_discount_rate)\n",
        "        print(f\"Calculated Discounted Price: ${discounted_price:.2f}\")\n",
        "        return discounted_price\n",
        "    except KeyError:\n",
        "        print(f\"Error: No rule found for damage type '{damage_type}' severity '{severity}'.\")\n",
        "        return None\n"
      ],
      "metadata": {
        "id": "DIJp_0Fn4Z5n"
      },
      "execution_count": 51,
      "outputs": []
    },
    {
      "cell_type": "code",
      "source": [
        "\n",
        "'''\n",
        "from fastapi import FastAPI\n",
        "from pydantic import BaseModel\n",
        "\n",
        "app = FastAPI()\n",
        "\n",
        "# Define request model\n",
        "class TradeRequest(BaseModel):\n",
        "    discounted_price: float\n",
        "    grace_range_low: float\n",
        "    grace_range_high: float\n",
        "    auto_trade_enabled: bool\n",
        "\n",
        "# 7. Auto Trader with Manual Toggle from Frontend\n",
        "def auto_trade_decision(discounted_price, grace_range_low, grace_range_high, auto_trade_enabled):\n",
        "    \"\"\"\n",
        "    Determines trade action based on user selection from frontend.\n",
        "\n",
        "    If auto_trade_enabled is True:\n",
        "        - Automatically purchases the book if it's within the grace range.\n",
        "        - Otherwise, puts it up for auction.\n",
        "\n",
        "    If auto_trade_enabled is False:\n",
        "        - Always puts the book up for auction.\n",
        "    \"\"\"\n",
        "    if auto_trade_enabled:\n",
        "        if grace_range_low <= discounted_price <= grace_range_high:\n",
        "            return {\"trade_decision\": \"automatic purchase\"}\n",
        "        else:\n",
        "            return {\"trade_decision\": \"auction based\"}\n",
        "    else:\n",
        "        return {\"trade_decision\": \"auction based\"}\n",
        "\n",
        "# FastAPI route to handle trade decision request\n",
        "@app.post(\"/trade-decision\")\n",
        "def trade_decision(request: TradeRequest):\n",
        "    decision = auto_trade_decision(\n",
        "        request.discounted_price,\n",
        "        request.grace_range_low,\n",
        "        request.grace_range_high,\n",
        "        request.auto_trade_enabled\n",
        "    )\n",
        "    return decision\n",
        "'''"
      ],
      "metadata": {
        "colab": {
          "base_uri": "https://localhost:8080/",
          "height": 125
        },
        "id": "EbjEVeVO4bxy",
        "outputId": "67dc6611-1b00-4d19-faf9-89f24cb97e79"
      },
      "execution_count": 44,
      "outputs": [
        {
          "output_type": "execute_result",
          "data": {
            "text/plain": [
              "'\\nfrom fastapi import FastAPI\\nfrom pydantic import BaseModel\\n\\napp = FastAPI()\\n\\n# Define request model\\nclass TradeRequest(BaseModel):\\n    discounted_price: float\\n    grace_range_low: float\\n    grace_range_high: float\\n    auto_trade_enabled: bool\\n\\n# 7. Auto Trader with Manual Toggle from Frontend\\ndef auto_trade_decision(discounted_price, grace_range_low, grace_range_high, auto_trade_enabled):\\n    \"\"\"\\n    Determines trade action based on user selection from frontend.\\n    \\n    If auto_trade_enabled is True:\\n        - Automatically purchases the book if it\\'s within the grace range.\\n        - Otherwise, puts it up for auction.\\n        \\n    If auto_trade_enabled is False:\\n        - Always puts the book up for auction.\\n    \"\"\"\\n    if auto_trade_enabled:\\n        if grace_range_low <= discounted_price <= grace_range_high:\\n            return {\"trade_decision\": \"automatic purchase\"}\\n        else:\\n            return {\"trade_decision\": \"auction based\"}\\n    else:\\n        return {\"trade_decision\": \"auction based\"}\\n\\n# FastAPI route to handle trade decision request\\n@app.post(\"/trade-decision\")\\ndef trade_decision(request: TradeRequest):\\n    decision = auto_trade_decision(\\n        request.discounted_price,\\n        request.grace_range_low,\\n        request.grace_range_high,\\n        request.auto_trade_enabled\\n    )\\n    return decision\\n'"
            ],
            "application/vnd.google.colaboratory.intrinsic+json": {
              "type": "string"
            }
          },
          "metadata": {},
          "execution_count": 44
        }
      ]
    },
    {
      "cell_type": "code",
      "source": [
        "# 8. Main Function\n",
        "def process_book_return(image_path, original_price, devaluation_rate=0.0):\n",
        "    \"\"\"\n",
        "    Main function to orchestrate the process.  Now with dynamic devaluation.\n",
        "    \"\"\"\n",
        "    damage_classification = classify_book_damage(image_path)\n",
        "\n",
        "    if damage_classification:\n",
        "        damage_info = extract_damage_info(damage_classification)\n",
        "\n",
        "        if damage_info:\n",
        "            # Call calculate_discounted_price with the devaluation rate\n",
        "            discounted_price = calculate_discounted_price(original_price, damage_info[\"type\"], damage_info[\"severity\"], devaluation_rate)\n",
        "\n",
        "            if discounted_price is not None:\n",
        "                print(f\"Damage Type: {damage_info['type']}\")\n",
        "                print(f\"Severity: {damage_info['severity']}\")\n",
        "                print(f\"Original Price: ${original_price:.2f}\")\n",
        "                print(f\"Final Discounted Price: ${discounted_price:.2f}\")\n",
        "            else:\n",
        "                print(\"Could not determine discounted price due to missing rule.\")\n",
        "        else:\n",
        "            print(\"Could not extract damage information.\")\n",
        "    else:\n",
        "        print(\"Could not classify damage from the image.\")\n",
        "\n",
        "# Example Usage (Inside the if __name__ == \"__main__\": block)\n",
        "\n",
        "\n",
        "# Added Publisher Rules\n",
        "publisher_rules = {\n",
        "    \"corner_damage\": { #Updated keys to underscore format\n",
        "        1: 0.05,\n",
        "        2: 0.10,\n",
        "        3: 0.22,\n",
        "        4: 0.50,\n",
        "        5: 0.75\n",
        "    },\n",
        "    \"cover_scratches\": { #Updated keys to underscore format\n",
        "        1: 0.02,\n",
        "        2: 0.05,\n",
        "        3: 0.15,\n",
        "        4: 0.30,\n",
        "        5: 0.50\n",
        "    },\n",
        "    \"spine_damage\": { #Updated keys to underscore format\n",
        "        1: 0.10,\n",
        "        2: 0.20,\n",
        "        3: 0.40,\n",
        "        4: 0.65,\n",
        "        5: 0.85\n",
        "    },\n",
        "    \"water_damage\": { #Updated keys to underscore format\n",
        "        1: 0.20,\n",
        "        2: 0.40,\n",
        "        3: 0.60,\n",
        "        4: 0.80,\n",
        "        5: 0.95\n",
        "    },\n",
        "    \"tears_or_rips\": { #Updated keys to underscore format\n",
        "        1: 0.05,\n",
        "        2: 0.10,\n",
        "        3: 0.30,\n",
        "        4: 0.55,\n",
        "        5: 0.75\n",
        "    },\n",
        "    \"misprints\": { #Updated keys to underscore format\n",
        "        1: 0.05,\n",
        "        2: 0.15,\n",
        "        3: 0.30,\n",
        "        4: 0.50,\n",
        "        5: 0.80\n",
        "    },\n",
        "    \"missing_dust_jacket\": { #Updated keys to underscore format\n",
        "        1: 0.05,\n",
        "        2: 0.10,\n",
        "        3: 0.20,\n",
        "        4: 0.35,\n",
        "        5: 0.50\n",
        "    },\n",
        "    \"trim_issues\": { #Updated keys to underscore format\n",
        "        1: 0.02,\n",
        "        2: 0.07,\n",
        "        3: 0.20,\n",
        "        4: 0.40,\n",
        "        5: 0.60\n",
        "    }\n",
        "}\n",
        "\n"
      ],
      "metadata": {
        "id": "QFbBTx4v5VM0"
      },
      "execution_count": 54,
      "outputs": []
    },
    {
      "cell_type": "code",
      "source": [
        "# 9. Example Usage\n",
        "if __name__ == \"__main__\":\n",
        "    # **UPLOAD AN IMAGE TO GOOGLE COLAB FIRST!**\n",
        "    image_path = \"/content/drive/MyDrive/htf/book_example.jpg\"  # Replace with the actual image path\n",
        "    original_price = 20.00\n",
        "\n",
        "    process_book_return(image_path, original_price)\n"
      ],
      "metadata": {
        "colab": {
          "base_uri": "https://localhost:8080/",
          "height": 231
        },
        "id": "vksET7j271_M",
        "outputId": "1f410820-c680-40b6-f268-8ad001f63681"
      },
      "execution_count": 55,
      "outputs": [
        {
          "output_type": "stream",
          "name": "stdout",
          "text": [
            "Gemini API response received.\n",
            "Gemini API response: Damage Type: corner_damage\n",
            "Severity: 3\n",
            "Extracted Damage Type: corner_damage\n",
            "Extracted Severity: 3\n",
            "Base Discount Rate: 0.22\n",
            "Adjusted Discount Rate: 0.22 (after 0.0% devaluation)\n",
            "Calculated Discounted Price: $15.60\n",
            "Damage Type: corner_damage\n",
            "Severity: 3\n",
            "Original Price: $20.00\n",
            "Final Discounted Price: $15.60\n"
          ]
        }
      ]
    }
  ]
}